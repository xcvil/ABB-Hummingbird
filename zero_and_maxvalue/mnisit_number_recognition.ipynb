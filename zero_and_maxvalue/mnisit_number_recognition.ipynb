{
 "cells": [
  {
   "cell_type": "code",
   "execution_count": null,
   "metadata": {},
   "outputs": [
    {
     "name": "stderr",
     "output_type": "stream",
     "text": [
      "D:\\ananonda\\lib\\site-packages\\ipykernel_launcher.py:34: UserWarning: Update your `Conv2D` call to the Keras 2 API: `Conv2D(30, (5, 5), input_shape=(28, 28, 1..., activation=\"relu\", padding=\"valid\")`\n",
      "D:\\ananonda\\lib\\site-packages\\ipykernel_launcher.py:37: UserWarning: Update your `Conv2D` call to the Keras 2 API: `Conv2D(15, (3, 3), activation=\"relu\")`\n",
      "D:\\ananonda\\lib\\site-packages\\ipykernel_launcher.py:53: UserWarning: The `nb_epoch` argument in `fit` has been renamed `epochs`.\n"
     ]
    },
    {
     "name": "stdout",
     "output_type": "stream",
     "text": [
      "WARNING:tensorflow:From D:\\ananonda\\lib\\site-packages\\keras\\backend\\tensorflow_backend.py:422: The name tf.global_variables is deprecated. Please use tf.compat.v1.global_variables instead.\n",
      "\n",
      "Train on 60000 samples, validate on 10000 samples\n",
      "Epoch 1/200\n",
      " - 29s - loss: 0.9373 - accuracy: 0.6809 - val_loss: 0.1545 - val_accuracy: 0.9551\n",
      "Epoch 2/200\n",
      " - 27s - loss: 0.3173 - accuracy: 0.9085 - val_loss: 0.0897 - val_accuracy: 0.9731\n",
      "Epoch 3/200\n",
      " - 28s - loss: 0.2417 - accuracy: 0.9322 - val_loss: 0.0718 - val_accuracy: 0.9775\n",
      "Epoch 4/200\n",
      " - 28s - loss: 0.1967 - accuracy: 0.9449 - val_loss: 0.0614 - val_accuracy: 0.9813\n",
      "Epoch 5/200\n",
      " - 27s - loss: 0.1794 - accuracy: 0.9517 - val_loss: 0.0521 - val_accuracy: 0.9843\n",
      "Epoch 6/200\n",
      " - 27s - loss: 0.1592 - accuracy: 0.9566 - val_loss: 0.0490 - val_accuracy: 0.9841\n",
      "Epoch 7/200\n",
      " - 28s - loss: 0.1449 - accuracy: 0.9595 - val_loss: 0.0443 - val_accuracy: 0.9870\n",
      "Epoch 8/200\n",
      " - 27s - loss: 0.1353 - accuracy: 0.9639 - val_loss: 0.0420 - val_accuracy: 0.9879\n",
      "Epoch 9/200\n",
      " - 27s - loss: 0.1254 - accuracy: 0.9655 - val_loss: 0.0409 - val_accuracy: 0.9879\n",
      "Epoch 10/200\n",
      " - 29s - loss: 0.1206 - accuracy: 0.9675 - val_loss: 0.0391 - val_accuracy: 0.9891\n",
      "Epoch 11/200\n",
      " - 27s - loss: 0.1174 - accuracy: 0.9675 - val_loss: 0.0358 - val_accuracy: 0.9891\n",
      "Epoch 12/200\n",
      " - 27s - loss: 0.1088 - accuracy: 0.9710 - val_loss: 0.0338 - val_accuracy: 0.9901\n",
      "Epoch 13/200\n",
      " - 28s - loss: 0.1037 - accuracy: 0.9718 - val_loss: 0.0329 - val_accuracy: 0.9897\n",
      "Epoch 14/200\n",
      " - 28s - loss: 0.1052 - accuracy: 0.9715 - val_loss: 0.0319 - val_accuracy: 0.9909\n",
      "Epoch 15/200\n",
      " - 26s - loss: 0.0998 - accuracy: 0.9733 - val_loss: 0.0307 - val_accuracy: 0.9907\n",
      "Epoch 16/200\n",
      " - 28s - loss: 0.0994 - accuracy: 0.9734 - val_loss: 0.0292 - val_accuracy: 0.9915\n",
      "Epoch 17/200\n",
      " - 27s - loss: 0.0933 - accuracy: 0.9747 - val_loss: 0.0301 - val_accuracy: 0.9907\n",
      "Epoch 18/200\n",
      " - 26s - loss: 0.0948 - accuracy: 0.9746 - val_loss: 0.0299 - val_accuracy: 0.9911\n",
      "Epoch 19/200\n",
      " - 26s - loss: 0.0915 - accuracy: 0.9752 - val_loss: 0.0274 - val_accuracy: 0.9919\n",
      "Epoch 20/200\n",
      " - 26s - loss: 0.0853 - accuracy: 0.9773 - val_loss: 0.0271 - val_accuracy: 0.9922\n",
      "Epoch 21/200\n",
      " - 27s - loss: 0.0850 - accuracy: 0.9766 - val_loss: 0.0271 - val_accuracy: 0.9917\n",
      "Epoch 22/200\n",
      " - 26s - loss: 0.0826 - accuracy: 0.9776 - val_loss: 0.0280 - val_accuracy: 0.9915\n",
      "Epoch 23/200\n",
      " - 26s - loss: 0.0811 - accuracy: 0.9778 - val_loss: 0.0255 - val_accuracy: 0.9921\n",
      "Epoch 24/200\n",
      " - 26s - loss: 0.0798 - accuracy: 0.9777 - val_loss: 0.0252 - val_accuracy: 0.9922\n",
      "Epoch 25/200\n",
      " - 26s - loss: 0.0782 - accuracy: 0.9787 - val_loss: 0.0243 - val_accuracy: 0.9926\n",
      "Epoch 26/200\n",
      " - 26s - loss: 0.0806 - accuracy: 0.9779 - val_loss: 0.0233 - val_accuracy: 0.9930\n",
      "Epoch 27/200\n",
      " - 26s - loss: 0.0806 - accuracy: 0.9782 - val_loss: 0.0246 - val_accuracy: 0.9929\n",
      "Epoch 28/200\n",
      " - 26s - loss: 0.0770 - accuracy: 0.9781 - val_loss: 0.0240 - val_accuracy: 0.9930\n",
      "Epoch 29/200\n",
      " - 26s - loss: 0.0736 - accuracy: 0.9798 - val_loss: 0.0237 - val_accuracy: 0.9928\n",
      "Epoch 30/200\n",
      " - 27s - loss: 0.0731 - accuracy: 0.9800 - val_loss: 0.0262 - val_accuracy: 0.9915\n",
      "Epoch 31/200\n"
     ]
    }
   ],
   "source": [
    "# Larger CNN for the MNIST Dataset\n",
    "import numpy\n",
    "from keras.datasets import mnist\n",
    "from keras.models import Sequential\n",
    "from keras.layers import Dense\n",
    "from keras.layers import Dropout\n",
    "from keras.layers import Flatten\n",
    "from keras.layers.convolutional import Convolution2D\n",
    "from keras.layers.convolutional import MaxPooling2D\n",
    "from keras.utils import np_utils\n",
    "import matplotlib.pyplot as plt\n",
    "from keras.constraints import maxnorm\n",
    "from keras.optimizers import SGD\n",
    "# fix random seed for reproducibility\n",
    "seed = 7\n",
    "numpy.random.seed(seed)\n",
    "# load data\n",
    "(X_train, y_train), (X_test, y_test) = mnist.load_data()\n",
    "# reshape to be [samples][pixels][width][height]\n",
    "X_train = X_train.reshape(X_train.shape[0], 28,28,1).astype('float32')\n",
    "X_test = X_test.reshape(X_test.shape[0], 28,28,1).astype('float32')\n",
    "# normalize inputs from 0-255 to 0-1\n",
    "X_train = X_train / 255\n",
    "X_test = X_test / 255\n",
    "# one hot encode outputs\n",
    "y_train = np_utils.to_categorical(y_train)\n",
    "y_test = np_utils.to_categorical(y_test)\n",
    "num_classes = y_test.shape[1]\n",
    "# define the larger model\n",
    "def larger_model():\n",
    "    # create model\n",
    "    model = Sequential()\n",
    "    model.add(Convolution2D(30, 5, 5, border_mode='valid', input_shape=(28,28,1), activation='relu'))\n",
    "    model.add(MaxPooling2D(pool_size=(2, 2)))\n",
    "    model.add(Dropout(0.4))\n",
    "    model.add(Convolution2D(15, 3, 3, activation='relu'))\n",
    "    model.add(MaxPooling2D(pool_size=(2, 2)))\n",
    "    model.add(Dropout(0.4))\n",
    "    model.add(Flatten())\n",
    "    model.add(Dense(128, activation='relu'))\n",
    "    model.add(Dropout(0.4))\n",
    "    model.add(Dense(50, activation='relu'))\n",
    "    model.add(Dropout(0.4))\n",
    "    model.add(Dense(num_classes, activation='softmax'))\n",
    "    # Compile model\n",
    "    model.compile(loss='categorical_crossentropy', optimizer='adam', metrics=['accuracy'])\n",
    "    return model\n",
    "\n",
    "# build the model\n",
    "model = larger_model()\n",
    "# Fit the model\n",
    "model.fit(X_train, y_train, validation_data=(X_test, y_test), nb_epoch=200, batch_size=200, verbose=2)\n",
    "# Final evaluation of the model\n",
    "scores = model.evaluate(X_test, y_test, verbose=0)\n",
    "print(\"Large CNN Error: %.2f%%\" % (100-scores[1]*100))"
   ]
  },
  {
   "cell_type": "code",
   "execution_count": 3,
   "metadata": {},
   "outputs": [],
   "source": [
    "network.save('m_lenet.h5')"
   ]
  },
  {
   "cell_type": "code",
   "execution_count": 15,
   "metadata": {
    "scrolled": true
   },
   "outputs": [
    {
     "name": "stdout",
     "output_type": "stream",
     "text": [
      "输入数字：\n",
      "识别为：\n",
      "[2]\n"
     ]
    },
    {
     "data": {
      "image/png": "[encoded data removed]",
      "text/plain": [
       "<Figure size 432x288 with 1 Axes>"
      ]
     },
     "metadata": {
      "needs_background": "light"
     },
     "output_type": "display_data"
    }
   ],
   "source": [
    "import numpy as np\n",
    "from keras.models import load_model\n",
    "import matplotlib.pyplot as plt\n",
    "from PIL import Image\n",
    "\n",
    "model = load_model('m_lenet.h5')\n",
    "\n",
    "def pre_pic(picName):\n",
    "    # 先打开传入的原始图片\n",
    "    img = Image.open(picName)\n",
    "    # 使用消除锯齿的方法resize图片\n",
    "    reIm = img.resize((28,28),Image.ANTIALIAS)\n",
    "    # 变成灰度图，转换成矩阵\n",
    "    im_arr = np.array(reIm.convert(\"L\"))\n",
    "    return im_arr\n",
    "\n",
    "im1 = pre_pic('2.png')\n",
    "print('输入数字：')\n",
    "\n",
    "plt.imshow(im1,cmap=plt.get_cmap('gray'))\n",
    "plt.show\n",
    "\n",
    "im1 = im1.reshape((1,28*28))\n",
    "im1 = im1.astype('float32')/255\n",
    "\n",
    "predict = model.predict_classes(im1)\n",
    "print ('识别为：')\n",
    "print (predict)\n"
   ]
  },
  {
   "cell_type": "code",
   "execution_count": null,
   "metadata": {},
   "outputs": [],
   "source": []
  }
 ],
 "metadata": {
  "kernelspec": {
   "display_name": "Python 3",
   "language": "python",
   "name": "python3"
  },
  "language_info": {
   "codemirror_mode": {
    "name": "ipython",
    "version": 3
   },
   "file_extension": ".py",
   "mimetype": "text/x-python",
   "name": "python",
   "nbconvert_exporter": "python",
   "pygments_lexer": "ipython3",
   "version": "3.7.4"
  }
 },
 "nbformat": 4,
 "nbformat_minor": 2
}
