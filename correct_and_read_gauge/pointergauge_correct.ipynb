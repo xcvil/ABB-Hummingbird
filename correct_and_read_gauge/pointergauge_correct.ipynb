{
 "cells": [
  {
   "cell_type": "code",
   "execution_count": 1,
   "metadata": {},
   "outputs": [],
   "source": [
    "# -*- coding: UTF-8 -*-\n",
    "import numpy as np\n",
    "import cv2"
   ]
  },
  {
   "cell_type": "code",
   "execution_count": 2,
   "metadata": {},
   "outputs": [],
   "source": [
    "## 图片旋转\n",
    "def rotate_bound(image, angle):\n",
    "    #获取宽高\n",
    "    (h, w) = image.shape[:2]\n",
    "    (cX, cY) = (w // 2, h // 2)\n",
    "    # 提取旋转矩阵 sin cos \n",
    "    M = cv2.getRotationMatrix2D((cX, cY), -angle, 1.0)\n",
    "    cos = np.abs(M[0, 0])\n",
    "    sin = np.abs(M[0, 1])\n",
    "    # 计算图像的新边界尺寸\n",
    "    nW = int((h * sin) + (w * cos))\n",
    "    # nH = int((h * cos) + (w * sin))\n",
    "    nH = h\n",
    "    # 调整旋转矩阵\n",
    "    M[0, 2] += (nW / 2) - cX\n",
    "    M[1, 2] += (nH / 2) - cY\n",
    "    return cv2.warpAffine(image, M, (nW, nH),flags=cv2.INTER_CUBIC, borderMode=cv2.BORDER_REPLICATE)\n",
    "    ## 获取图片旋转角度"
   ]
  },
  {
   "cell_type": "code",
   "execution_count": 3,
   "metadata": {},
   "outputs": [],
   "source": [
    "def get_minAreaRect(image):\n",
    "    gray = cv2.cvtColor(image, cv2.COLOR_BGR2GRAY)\n",
    "    gray = cv2.bitwise_not(gray)\n",
    "    cv2.imshow('12',gray)\n",
    "    thresh = cv2.threshold(gray, 0, 255,\n",
    "        cv2.THRESH_BINARY | cv2.THRESH_OTSU)[1]\n",
    "    coords = np.column_stack(np.where(thresh > 0))\n",
    "    rect = cv2.minAreaRect(coords)\n",
    "    box = cv2.boxPoints(rect)\n",
    "    box = np.int0(box)\n",
    "    cv2.drawContours(thresh, [box], 0, (255, 0, 0), 1)\n",
    "    cv2.imwrite('contours.png', thresh)\n",
    "    return cv2.minAreaRect(coords)"
   ]
  },
  {
   "cell_type": "code",
   "execution_count": null,
   "metadata": {},
   "outputs": [
    {
     "name": "stdout",
     "output_type": "stream",
     "text": [
      "[INFO] angle: -43.152\n"
     ]
    }
   ],
   "source": [
    "image_path = \"17.png\"\n",
    "image = cv2.imread(image_path)\n",
    "angle = get_minAreaRect(image)[-1]\n",
    "rotated = rotate_bound(image, angle)\n",
    "cv2.putText(rotated, \"angle: {:.2f} \".format(angle),\n",
    "    (10, 30), cv2.FONT_HERSHEY_SIMPLEX, 0.7, (0, 0, 255), 2)\n",
    "# show the output image\n",
    "print(\"[INFO] angle: {:.3f}\".format(angle))\n",
    "cv2.imshow(\"imput\", image)\n",
    "cv2.imshow(\"output\", rotated)\n",
    "cv2.waitKey(0)"
   ]
  }
 ],
 "metadata": {
  "kernelspec": {
   "display_name": "Python 3",
   "language": "python",
   "name": "python3"
  },
  "language_info": {
   "codemirror_mode": {
    "name": "ipython",
    "version": 3
   },
   "file_extension": ".py",
   "mimetype": "text/x-python",
   "name": "python",
   "nbconvert_exporter": "python",
   "pygments_lexer": "ipython3",
   "version": "3.7.4"
  }
 },
 "nbformat": 4,
 "nbformat_minor": 2
}
